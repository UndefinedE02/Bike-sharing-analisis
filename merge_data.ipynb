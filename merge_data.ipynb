{
 "cells": [
  {
   "cell_type": "code",
   "execution_count": 5,
   "metadata": {},
   "outputs": [
    {
     "name": "stdout",
     "output_type": "stream",
     "text": [
      "Data berhasil digabungkan dan disimpan sebagai main_data.csv!\n"
     ]
    }
   ],
   "source": [
    "import pandas as pd\n",
    "\n",
    "# Baca kedua dataset\n",
    "data_hari = pd.read_csv('data/data_1.csv')\n",
    "data_jam = pd.read_csv('data/data_2.csv')\n",
    "\n",
    "# Gabungkan dataset\n",
    "data_gabungan = pd.concat([data_hari, data_jam], ignore_index=True)\n",
    "\n",
    "# Simpan hasil ke dalam main_data.csv\n",
    "data_gabungan.to_csv('Dashboard/main_data.csv', index=False)\n",
    "\n",
    "print(\"Data berhasil digabungkan dan disimpan sebagai main_data.csv!\")\n"
   ]
  }
 ],
 "metadata": {
  "kernelspec": {
   "display_name": "base",
   "language": "python",
   "name": "python3"
  },
  "language_info": {
   "codemirror_mode": {
    "name": "ipython",
    "version": 3
   },
   "file_extension": ".py",
   "mimetype": "text/x-python",
   "name": "python",
   "nbconvert_exporter": "python",
   "pygments_lexer": "ipython3",
   "version": "3.12.7"
  }
 },
 "nbformat": 4,
 "nbformat_minor": 2
}
